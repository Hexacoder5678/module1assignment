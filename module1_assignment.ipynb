{
  "nbformat": 4,
  "nbformat_minor": 0,
  "metadata": {
    "colab": {
      "provenance": []
    },
    "kernelspec": {
      "name": "python3",
      "display_name": "Python 3"
    },
    "language_info": {
      "name": "python"
    }
  },
  "cells": [
    {
      "cell_type": "markdown",
      "source": [
        "# 1. Explain the main components of client-server architecture and their functions\n",
        "   =>Main components of client server architecture is:\n",
        "      .client=end user's device that interact with server\n",
        "      .server=centralised computer that provide resources and providing data\n",
        "      .response/respond=client send request and server probide with data\n",
        "      .statelessnes=each request from a client and server is independent\n",
        "\n",
        "#2. Discuss the various career paths available after completing a web development course    \n",
        "   =>  \n",
        "\n",
        "*    front end developer=focuses on the user interface and visual aspects\n",
        "*    backend  developer=manages server side logics ,databases and application\n",
        "                        integration\n",
        "*   full stack developer=skilled with both frontend and backend skills\n",
        "*   web designs=manages the design and layouts of the websites\n",
        "*   web administrator =manages the web servers and ensures website performace and it's security\n",
        "\n",
        "\n",
        "#3.Describe the role of a web browser's developer tools in web development\n",
        "   =>\n",
        "  ~browsers like chrome and firefox have inbuilt developer tools\n",
        "  ~allow inspection of html/css and debugging of javascript\n",
        "  ~monitor network request and analyze performance\n",
        "\n",
        "\n",
        "#4.What are the advantages of using a Version Control System like Git in a development project  \n",
        "  =>~track changes to files over time\n",
        "    ~ enables collaboration among multiple develpoers\n",
        "    ~ ensures efficint management of changes\n",
        "\n",
        "#5. Compare and contrast a text editor and an IDE, highlighting their key features and uses  \n",
        "    => ~text editor- simple tool for writting code.eg(notepad++)\n",
        "       ~ide-stand for integrated development environment.robust environment with features like debugging,versio control and project management(eg-vs code)\n",
        "\n",
        "\n",
        "\n",
        "\n",
        "\n",
        "\n",
        "\n",
        "\n",
        "\n",
        "\n",
        "\n"
      ],
      "metadata": {
        "id": "9qVqLws9zeag"
      }
    },
    {
      "cell_type": "code",
      "execution_count": null,
      "metadata": {
        "id": "70I0eOBPzX7K"
      },
      "outputs": [],
      "source": []
    }
  ]
}